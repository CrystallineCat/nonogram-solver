{
 "cells": [
  {
   "cell_type": "code",
   "execution_count": 11,
   "metadata": {
    "scrolled": true
   },
   "outputs": [
    {
     "name": "stdout",
     "output_type": "stream",
     "text": [
      "n_changed = 1\n",
      "n_changed = 23\n",
      "finished iter 0\n",
      "n_changed = 37\n",
      "n_changed = 53\n",
      "finished iter 1\n",
      "n_changed = 17\n",
      "n_changed = 37\n",
      "finished iter 2\n",
      "n_changed = 26\n",
      "n_changed = 53\n",
      "finished iter 3\n",
      "n_changed = 21\n",
      "n_changed = 39\n",
      "finished iter 4\n",
      "n_changed = 11\n",
      "n_changed = 17\n",
      "finished iter 5\n",
      "n_changed = 3\n",
      "n_changed = 13\n",
      "finished iter 6\n",
      "n_changed = 10\n",
      "n_changed = 16\n",
      "finished iter 7\n",
      "n_changed = 1\n",
      "n_changed = 4\n",
      "finished iter 8\n",
      "n_changed = 2\n",
      "n_changed = 6\n",
      "finished iter 9\n",
      "n_changed = 4\n",
      "n_changed = 10\n",
      "finished iter 10\n",
      "n_changed = 2\n",
      "n_changed = 2\n",
      "finished iter 11\n",
      "n_changed = 0\n",
      "n_changed = 0\n",
      "finished iter 12\n"
     ]
    }
   ],
   "source": [
    "from nonogram_solver import solver\n",
    "from nonogram_solver.nonogram import Nonogram\n",
    "\n",
    "string_box = [\n",
    "    'o...o.......o...',\n",
    "    '....oo.ooo.oo.o.',\n",
    "    '..o.ooo...oooo..',\n",
    "    '....o.o...o.oo..',\n",
    "    '....o...o...oo.o',\n",
    "    'oo...o.....oo...',\n",
    "    '.oooo.o..ooo..oo',\n",
    "    '....ooooo.ooooo.',\n",
    "    '..o..o.....oo..o',\n",
    "    '.....o.....oo...',\n",
    "    '.o...o.....oo...',\n",
    "    '...o..o..ooo..o.',\n",
    "    '......ooo.oo....',\n",
    "    'o....o.....oo.o.',\n",
    "    '....o......ooo..',\n",
    "    'ooooo......ooooo',\n",
    "    'oooo.o....ooo..o',\n",
    "]\n",
    "\n",
    "nonogram = Nonogram()\n",
    "nonogram.init_from_solution_string(string_box)\n",
    "solvable, solution = solver.solve(nonogram, add_puzzle_constraints=True)"
   ]
  },
  {
   "cell_type": "code",
   "execution_count": 12,
   "metadata": {},
   "outputs": [
    {
     "data": {
      "text/plain": [
       "True"
      ]
     },
     "execution_count": 12,
     "metadata": {},
     "output_type": "execute_result"
    }
   ],
   "source": [
    "solvable"
   ]
  },
  {
   "cell_type": "code",
   "execution_count": 13,
   "metadata": {
    "scrolled": true
   },
   "outputs": [
    {
     "data": {
      "text/plain": [
       "[[1, 1, 1, 2],\n",
       " [2, 1, 2],\n",
       " [1, 1, 1, 2],\n",
       " [1, 1, 2],\n",
       " [5, 2, 2],\n",
       " [2, 1, 4, 1, 1],\n",
       " [2, 2, 2],\n",
       " [1, 1, 1],\n",
       " [1, 1, 1, 1],\n",
       " [1, 1, 1],\n",
       " [2, 2, 2, 1],\n",
       " [2, 12],\n",
       " [6, 4, 4],\n",
       " [3, 1, 2],\n",
       " [1, 2, 1, 1, 1],\n",
       " [1, 1, 1, 2]]"
      ]
     },
     "execution_count": 13,
     "metadata": {},
     "output_type": "execute_result"
    }
   ],
   "source": [
    "solution.nonogram.cols_constraints"
   ]
  },
  {
   "cell_type": "code",
   "execution_count": 14,
   "metadata": {
    "scrolled": true
   },
   "outputs": [
    {
     "data": {
      "text/plain": [
       "[[1, 1, 1],\n",
       " [2, 3, 2, 1],\n",
       " [1, 3, 4],\n",
       " [1, 1, 1, 2],\n",
       " [1, 1, 2, 1],\n",
       " [2, 1, 2],\n",
       " [4, 1, 3, 2],\n",
       " [5, 5],\n",
       " [1, 1, 2, 1],\n",
       " [1, 2],\n",
       " [1, 1, 2],\n",
       " [1, 1, 3, 1],\n",
       " [3, 2],\n",
       " [1, 1, 2, 1],\n",
       " [1, 3],\n",
       " [5, 5],\n",
       " [4, 1, 3, 1]]"
      ]
     },
     "execution_count": 14,
     "metadata": {},
     "output_type": "execute_result"
    }
   ],
   "source": [
    "solution.nonogram.rows_constraints"
   ]
  }
 ],
 "metadata": {
  "kernelspec": {
   "display_name": "Python 3",
   "language": "python",
   "name": "python3"
  },
  "language_info": {
   "codemirror_mode": {
    "name": "ipython",
    "version": 3
   },
   "file_extension": ".py",
   "mimetype": "text/x-python",
   "name": "python",
   "nbconvert_exporter": "python",
   "pygments_lexer": "ipython3",
   "version": "3.6.7"
  }
 },
 "nbformat": 4,
 "nbformat_minor": 1
}
