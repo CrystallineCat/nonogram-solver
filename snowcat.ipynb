{
 "cells": [
  {
   "cell_type": "code",
   "execution_count": 16,
   "metadata": {
    "collapsed": true
   },
   "outputs": [],
   "source": [
    "from nonogram_solver import solver\n",
    "from nonogram_solver.nonogram import Nonogram\n",
    "\n",
    "string_box = [\n",
    "    '.....o....o..o..',\n",
    "    'o....oo.....oo..',\n",
    "    '.....o.ooooo.o.o',\n",
    "    '..o..ooo...ooo..',\n",
    "    '.....o..o.o.oo..',\n",
    "    '...o.o...o...o.o',\n",
    "    'oo....o.....oo..',\n",
    "    '.oooo..oooooo...',\n",
    "    '....ooo....ooooo',\n",
    "    '..o..o.....o.o..',\n",
    "    '.....o.....ooo..',\n",
    "    '...o..o..oo.o..o',\n",
    "    '......ooo.oo....',\n",
    "    'o....o.....oo.o.',\n",
    "    '....o......ooo..',\n",
    "    'ooooo......o.ooo',\n",
    "    'oooo.o....oooo.o',\n",
    "]\n",
    "\n",
    "nonogram = Nonogram()\n",
    "nonogram.init_from_solution_string(string_box)"
   ]
  },
  {
   "cell_type": "code",
   "execution_count": 20,
   "metadata": {},
   "outputs": [
    {
     "name": "stdout",
     "output_type": "stream",
     "text": [
      "n_changed = 3\nn_changed = 22\nfinished iter 0\n"
     ]
    },
    {
     "name": "stdout",
     "output_type": "stream",
     "text": [
      "n_changed = 30\nn_changed = 50\nfinished iter 1\n"
     ]
    },
    {
     "name": "stdout",
     "output_type": "stream",
     "text": [
      "n_changed = 17\nn_changed = 28\nfinished iter 2\n"
     ]
    },
    {
     "name": "stdout",
     "output_type": "stream",
     "text": [
      "n_changed = 23\nn_changed = 35\nfinished iter 3\nn_changed = 12\n"
     ]
    },
    {
     "name": "stdout",
     "output_type": "stream",
     "text": [
      "n_changed = 18\nfinished iter 4\nn_changed = 8\nn_changed = 15\nfinished iter 5\n"
     ]
    },
    {
     "name": "stdout",
     "output_type": "stream",
     "text": [
      "n_changed = 4\nn_changed = 7\nfinished iter 6\nn_changed = 1\nn_changed = 3\nfinished iter 7\n"
     ]
    },
    {
     "name": "stdout",
     "output_type": "stream",
     "text": [
      "n_changed = 5\nn_changed = 14\nfinished iter 8\nn_changed = 4\nn_changed = 13\nfinished iter 9\n"
     ]
    },
    {
     "name": "stdout",
     "output_type": "stream",
     "text": [
      "n_changed = 8\nn_changed = 11\nfinished iter 10\nn_changed = 2\nn_changed = 3\nfinished iter 11\n"
     ]
    },
    {
     "name": "stdout",
     "output_type": "stream",
     "text": [
      "n_changed = 0\nn_changed = 0\nfinished iter 12\n26 squares available\nn_changed = 4\nn_changed = 8\nfinished iter 0\nn_changed = 0\n"
     ]
    },
    {
     "name": "stdout",
     "output_type": "stream",
     "text": [
      "n_changed = 0\nfinished iter 1\n25 squares available\nn_changed = 1\nn_changed = 6\nfinished iter 0\nn_changed = 4\nn_changed = 12\nfinished iter 1\n"
     ]
    },
    {
     "name": "stdout",
     "output_type": "stream",
     "text": [
      "n_changed = 4\nn_changed = 7\nfinished iter 2\nn_changed = 2\nn_changed = 4\nfinished iter 3\nn_changed = 1\nn_changed = 2\nfinished iter 4\nn_changed = 1\nn_changed = 2\nfinished iter 5\nn_changed = 0\nn_changed = 0\n"
     ]
    },
    {
     "name": "stdout",
     "output_type": "stream",
     "text": [
      "finished iter 6\n21 squares available\nn_changed = 0\nn_changed = 0\nfinished iter 0\n20 squares available\nn_changed = 0\nn_changed = 0\nfinished iter 0\n19 squares available\nn_changed = 0\nn_changed = 3\nfinished iter 0\nn_changed = 2\nn_changed = 6\nfinished iter 1\nn_changed = 4\nn_changed = 4\nfinished iter 2\nn_changed = 0\nn_changed = 0\nfinished iter 3\n"
     ]
    }
   ],
   "source": [
    "solvable, solution = solver.solve(nonogram, add_puzzle_constraints=True)"
   ]
  },
  {
   "cell_type": "code",
   "execution_count": 18,
   "metadata": {},
   "outputs": [
    {
     "data": {
      "text/plain": [
       "[[1, 1, 1, 2],\n [2, 2],\n [1, 1, 1, 2],\n [1, 1, 1, 2],\n [2, 2],\n [6, 3, 1, 1],\n [1, 1, 1, 1, 2],\n [2, 1, 1],\n [1, 1, 1, 1],\n [1, 1, 1, 1],\n [1, 1, 1, 1, 2, 1],\n [2, 4, 5],\n [1, 2, 3, 2, 2, 1],\n [7, 3, 3],\n [1, 1, 1],\n [1, 1, 1, 1, 2]]"
      ]
     },
     "execution_count": 18,
     "metadata": {},
     "output_type": "execute_result"
    }
   ],
   "source": [
    "solution.nonogram.cols_constraints"
   ]
  },
  {
   "cell_type": "code",
   "execution_count": 21,
   "metadata": {},
   "outputs": [
    {
     "data": {
      "text/plain": [
       "True"
      ]
     },
     "execution_count": 21,
     "metadata": {},
     "output_type": "execute_result"
    }
   ],
   "source": [
    "solvable"
   ]
  },
  {
   "cell_type": "code",
   "execution_count": 19,
   "metadata": {},
   "outputs": [
    {
     "data": {
      "text/plain": [
       "[[1, 1, 1],\n [1, 2, 2],\n [1, 5, 1, 1],\n [1, 3, 3],\n [1, 1, 1, 2],\n [1, 1, 1, 1, 1],\n [2, 1, 2],\n [4, 6],\n [3, 5],\n [1, 1, 1, 1],\n [1, 3],\n [1, 1, 2, 1, 1],\n [3, 2],\n [1, 1, 2, 1],\n [1, 3],\n [5, 1, 3],\n [4, 1, 4, 1]]"
      ]
     },
     "execution_count": 19,
     "metadata": {},
     "output_type": "execute_result"
    }
   ],
   "source": [
    "solution.nonogram.rows_constraints"
   ]
  }
 ],
 "metadata": {
  "kernelspec": {
   "display_name": "Python 2",
   "language": "python",
   "name": "python2"
  },
  "language_info": {
   "codemirror_mode": {
    "name": "ipython",
    "version": 2
   },
   "file_extension": ".py",
   "mimetype": "text/x-python",
   "name": "python",
   "nbconvert_exporter": "python",
   "pygments_lexer": "ipython2",
   "version": "2.7.6"
  }
 },
 "nbformat": 4,
 "nbformat_minor": 0
}
